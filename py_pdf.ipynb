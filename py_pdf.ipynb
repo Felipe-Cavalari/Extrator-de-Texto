{
 "cells": [
  {
   "cell_type": "code",
   "execution_count": 62,
   "metadata": {},
   "outputs": [],
   "source": [
    "import PyPDF2\n",
    "import os\n",
    "import re\n",
    "import pandas as pd\n",
    "import tkinter as tk\n",
    "from tkinter import filedialog"
   ]
  },
  {
   "cell_type": "code",
   "execution_count": 102,
   "metadata": {},
   "outputs": [],
   "source": [
    "\n",
    "\n",
    "#pdf_path = \"Documentos/ICT/ICT_20221123.pdf\"\n",
    "pdf_path = filedialog.askopenfilename(title='Selecione o PDF')\n",
    "txt_path = \"./Dados extraidos/ICT_result.txt\"\n",
    "\n",
    "nome_arquivo = os.path.basename(pdf_path)\n",
    "\n",
    "nome_arquivo_dict = re.split(r'[_.]', nome_arquivo)\n",
    "\n",
    "nome_arquivo = nome_arquivo_dict[1]\n",
    "\n",
    "if not os.path.exists(txt_path):\n",
    "    open(txt_path, 'w').close()\n",
    "else:\n",
    "    os.remove(txt_path)\n",
    "\n",
    "#Abre o arquivo PDF e extrai os dados dele\n",
    "with open(pdf_path, 'rb') as pdf:\n",
    "    pdf_extraido = PyPDF2.PdfReader(pdf)\n",
    "    numero_paginas = len(pdf_extraido.pages)\n",
    "\n",
    "    with open(txt_path, 'a') as txt:\n",
    "        for pages in range(numero_paginas):\n",
    "            # Obtendo a pagina no loop\n",
    "\n",
    "            pagina = pdf_extraido.pages[pages]\n",
    "        \n",
    "            # Obtendo texto da pagina \n",
    "\n",
    "            pagina_texto = pagina.extract_text()\n",
    "\n",
    "            #escrevendo no arquivo\n",
    "            txt.write(pagina_texto)\n",
    "            txt.write('\\n----- Página {} -----\\n\\n'.format(pages+1)) "
   ]
  },
  {
   "cell_type": "code",
   "execution_count": 92,
   "metadata": {},
   "outputs": [],
   "source": [
    "arquivo = 'Documentos/Platts - Lista de Índices.xlsx'\n",
    "df = pd.read_excel('Documentos/Platts - Lista de Índices.xlsx')\n",
    "\n",
    "#teste de função com a extração do arquivo excel\n",
    "\n",
    "def Extracao_indice_excel(arquivo, indice):\n",
    "    #verifica a extensão do arquivo\n",
    "    file_extension = os.path.splitext(arquivo)[1]\n",
    "\n",
    "    #Cria a lista vazia para o valor do indices irem\n",
    "    todos_indices = []\n",
    "    \n",
    "    if file_extension == '.xlsx' or '.xls':\n",
    "        df = pd.read_excel(arquivo)\n",
    "        indices = df.iloc[:, indice]\n",
    "\n",
    "        for indice_arquivo in indices:\n",
    "            todos_indices.append(indice_arquivo)\n",
    "\n",
    "\n",
    "    elif file_extension == '.csv':\n",
    "        df = pd.read_csv(arquivo)\n",
    "        indices = df.iloc[:, indice]\n",
    "\n",
    "        for indice_arquivo in indices:\n",
    "            todos_indices.append(indice_arquivo)\n",
    "    \n",
    "    return df\n",
    "\n",
    "\n",
    "\n"
   ]
  },
  {
   "cell_type": "code",
   "execution_count": 31,
   "metadata": {},
   "outputs": [],
   "source": [
    "all_indices = df.iloc[:, 0]\n",
    "indice = ''\n",
    "regex = re.compile(str(indice) + r'\\^s*\\D{0,4}\\.\\d{2}')\n",
    "\n",
    "with open (txt_path, 'r') as arquivo_extraido:\n",
    "    texto = arquivo_extraido.read()\n",
    "\n",
    "    padrao = re.search(regex, texto)\n",
    "\n",
    "if padrao:\n",
    "       print(padrao.group(0))\n",
    "else:\n",
    "      None\n",
    "\n"
   ]
  },
  {
   "cell_type": "code",
   "execution_count": 97,
   "metadata": {},
   "outputs": [],
   "source": [
    "with open (txt_path, 'r') as arquivo_extraido:\n",
    "    texto = arquivo_extraido.read()\n",
    "\n",
    "resultado = {}\n",
    "for indices in all_indices:\n",
    "        # Regex para procurar o resultado dos indices\n",
    "        regex = re.compile(str(indices) + r'.*?\\d+\\.\\d{2}')\n",
    "        #Com a biblioteca re usamos a função search\n",
    "        padrao = re.search(regex, texto)\n",
    "        \n",
    "        if padrao:\n",
    "           chave = padrao.group(0).split()[0]\n",
    "           valor = padrao.group(0).split()[-1]\n",
    "           resultado[chave] = valor\n",
    "           \n",
    "        else:\n",
    "          chave = indices\n",
    "          valor = \"Null\"\n",
    "          resultado[chave] = valor\n",
    "\n"
   ]
  },
  {
   "cell_type": "code",
   "execution_count": 98,
   "metadata": {},
   "outputs": [],
   "source": [
    "#convertendo a lista em csv\n",
    "\n",
    "cabecalho = ['Código do Índice', nome_arquivo]\n",
    "\n",
    "ict_csv = pd.DataFrame(list(resultado.items()), columns=cabecalho)\n",
    "\n",
    "#display(ict_csv)\n",
    "\n",
    "ict_csv.to_csv('./Dados CSV/ICT_' + nome_arquivo, index=False)\n"
   ]
  }
 ],
 "metadata": {
  "kernelspec": {
   "display_name": "env",
   "language": "python",
   "name": "python3"
  },
  "language_info": {
   "codemirror_mode": {
    "name": "ipython",
    "version": 3
   },
   "file_extension": ".py",
   "mimetype": "text/x-python",
   "name": "python",
   "nbconvert_exporter": "python",
   "pygments_lexer": "ipython3",
   "version": "3.10.8"
  },
  "orig_nbformat": 4,
  "vscode": {
   "interpreter": {
    "hash": "b75c8eca78e066b0f3b42e20fc6016b6a99706d5fcc3904e7674f3dad037dae5"
   }
  }
 },
 "nbformat": 4,
 "nbformat_minor": 2
}
