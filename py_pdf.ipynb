{
 "cells": [
  {
   "cell_type": "code",
   "execution_count": 1,
   "metadata": {},
   "outputs": [],
   "source": [
    "import PyPDF2\n",
    "import os\n",
    "import re\n"
   ]
  },
  {
   "cell_type": "code",
   "execution_count": 2,
   "metadata": {},
   "outputs": [
    {
     "name": "stdout",
     "output_type": "stream",
     "text": [
      "9\n"
     ]
    }
   ],
   "source": [
    "cmr = open('Documentos/CMR/CMR Feb 23.pdf', 'rb')\n",
    "cmr_extraido = PyPDF2.PdfReader(cmr)\n",
    "\n",
    "numero_paginas = cmr_extraido.pages\n",
    "\n",
    "print(len(numero_paginas))\n",
    "\n",
    "\"\"\"O CMR possui 3 7 indices a serem buscados\"\"\"\n",
    "\n",
    "indice1 = 'US$/tonne fob China: Blast Furnace Coke 30/90mm 12.5% Ash 62% CSR'"
   ]
  },
  {
   "cell_type": "code",
   "execution_count": 15,
   "metadata": {},
   "outputs": [],
   "source": [
    "#Definindo as caminhos\n",
    "pdf_path = \"Documentos/CMR/CMR Feb 23.pdf\"\n",
    "txt_path = \"Dados extraídos/Cmr_result.txt\"\n",
    "\n",
    "#caso o arquivo não exista\n",
    "if not os.path.exists(txt_path):\n",
    "    open(txt_path, 'w').close()\n",
    "\n",
    "#Abre o arquivo PDF e extrai os dados dele\n",
    "with open(pdf_path, 'rb') as pdf:\n",
    "\n",
    "    pdf_extraido = PyPDF2.PdfReader(pdf)\n",
    "    numero_paginas = len(pdf_extraido.pages)\n",
    "\n",
    "    with open(txt_path, 'a') as txt:\n",
    "        for pages in range(numero_paginas):\n",
    "            # Obtendo a pagina no loop\n",
    "\n",
    "            pagina = pdf_extraido.pages[pages]\n",
    "        \n",
    "            # Obtendo texto da pagina \n",
    "\n",
    "            pagina_texto = pagina.extract_text()\n",
    "\n",
    "            #escrevendo no arquivo\n",
    "            txt.write(pagina_texto)\n",
    "            txt.write('\\n----- Página {} -----\\n\\n'.format(pages+1)) \n",
    "\n",
    "\n"
   ]
  },
  {
   "cell_type": "code",
   "execution_count": 24,
   "metadata": {},
   "outputs": [
    {
     "name": "stdout",
     "output_type": "stream",
     "text": [
      "Valor não encontrado\n"
     ]
    }
   ],
   "source": [
    "indice1 = 'US$/tonne fob China: Blast Furnace Coke 30/90mm 12.5% Ash 62% CSR'\n",
    "\n",
    "with open (txt_path, 'r') as arquivo_extraido:\n",
    "    texto = arquivo_extraido.read()\n",
    "\n",
    "regex = r'ID:\\s*(\\d+)'\n",
    "\n",
    "matches = re.search(r'Indice: \\s*US$/tonne fob China: :\\s+Valor:\\s*(\\S+)', texto)\n",
    "if matches:\n",
    "    valor = matches.group()\n",
    "else:\n",
    "    print('Valor não encontrado')"
   ]
  },
  {
   "cell_type": "code",
   "execution_count": 4,
   "metadata": {},
   "outputs": [],
   "source": [
    "pdf_path = \"Documentos/ICT/ICT_20221123.pdf\"\n",
    "txt_path = \"Dados extraídos/ICT_result.txt\"\n",
    "if not os.path.exists(txt_path):\n",
    "    open(txt_path, 'w').close()\n",
    "\n",
    "#Abre o arquivo PDF e extrai os dados dele\n",
    "with open(pdf_path, 'rb') as pdf:\n",
    "    pdf_extraido = PyPDF2.PdfReader(pdf)\n",
    "    numero_paginas = len(pdf_extraido.pages)\n",
    "\n",
    "    with open(txt_path, 'a') as txt:\n",
    "        for pages in range(numero_paginas):\n",
    "            # Obtendo a pagina no loop\n",
    "\n",
    "            pagina = pdf_extraido.pages[pages]\n",
    "        \n",
    "            # Obtendo texto da pagina \n",
    "\n",
    "            pagina_texto = pagina.extract_text()\n",
    "\n",
    "            #escrevendo no arquivo\n",
    "            txt.write(pagina_texto)\n",
    "            txt.write('\\n----- Página {} -----\\n\\n'.format(pages+1)) "
   ]
  },
  {
   "cell_type": "code",
   "execution_count": 62,
   "metadata": {},
   "outputs": [
    {
     "name": "stdout",
     "output_type": "stream",
     "text": [
      "MCCNC00\n"
     ]
    }
   ],
   "source": [
    "indice = re.compile(r'MCCNC00: \\d+\\.\\d+')\n",
    "\n",
    "\n",
    "with open (txt_path, 'r') as arquivo_extraido:\n",
    "    texto = arquivo_extraido.read()\n",
    "\n",
    "    padrao = re.search(indice, texto)\n",
    "    if padrao:\n",
    "        print(padrao.group())\n",
    "\n",
    "\n"
   ]
  }
 ],
 "metadata": {
  "kernelspec": {
   "display_name": "env",
   "language": "python",
   "name": "python3"
  },
  "language_info": {
   "codemirror_mode": {
    "name": "ipython",
    "version": 3
   },
   "file_extension": ".py",
   "mimetype": "text/x-python",
   "name": "python",
   "nbconvert_exporter": "python",
   "pygments_lexer": "ipython3",
   "version": "3.10.8"
  },
  "orig_nbformat": 4,
  "vscode": {
   "interpreter": {
    "hash": "b75c8eca78e066b0f3b42e20fc6016b6a99706d5fcc3904e7674f3dad037dae5"
   }
  }
 },
 "nbformat": 4,
 "nbformat_minor": 2
}
