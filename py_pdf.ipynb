{
 "cells": [
  {
   "cell_type": "code",
   "execution_count": 2,
   "metadata": {},
   "outputs": [],
   "source": [
    "import PyPDF2\n",
    "import os\n",
    "import re\n",
    "import pandas as pd"
   ]
  },
  {
   "cell_type": "code",
   "execution_count": 15,
   "metadata": {},
   "outputs": [],
   "source": [
    "#Definindo as caminhos\n",
    "pdf_path = \"Documentos/CMR/CMR Feb 23.pdf\"\n",
    "txt_path = \"Dados extraídos/Cmr_result.txt\"\n",
    "\n",
    "#caso o arquivo não exista\n",
    "if not os.path.exists(txt_path):\n",
    "    open(txt_path, 'w').close()\n",
    "\n",
    "#Abre o arquivo PDF e extrai os dados dele\n",
    "with open(pdf_path, 'rb') as pdf:\n",
    "\n",
    "    pdf_extraido = PyPDF2.PdfReader(pdf)\n",
    "    numero_paginas = len(pdf_extraido.pages)\n",
    "\n",
    "    with open(txt_path, 'a') as txt:\n",
    "        for pages in range(numero_paginas):\n",
    "            # Obtendo a pagina no loop\n",
    "\n",
    "            pagina = pdf_extraido.pages[pages]\n",
    "        \n",
    "            # Obtendo texto da pagina \n",
    "\n",
    "            pagina_texto = pagina.extract_text()\n",
    "\n",
    "            #escrevendo no arquivo\n",
    "            txt.write(pagina_texto)\n",
    "            txt.write('\\n----- Página {} -----\\n\\n'.format(pages+1)) \n",
    "\n",
    "\n"
   ]
  },
  {
   "cell_type": "code",
   "execution_count": 3,
   "metadata": {},
   "outputs": [],
   "source": [
    "pdf_path = \"Documentos/ICT/ICT_20221123.pdf\"\n",
    "txt_path = \"Dados extraídos/ICT_result.txt\"\n",
    "if not os.path.exists(txt_path):\n",
    "    open(txt_path, 'w').close()\n",
    "\n",
    "#Abre o arquivo PDF e extrai os dados dele\n",
    "with open(pdf_path, 'rb') as pdf:\n",
    "    pdf_extraido = PyPDF2.PdfReader(pdf)\n",
    "    numero_paginas = len(pdf_extraido.pages)\n",
    "\n",
    "    with open(txt_path, 'a') as txt:\n",
    "        for pages in range(numero_paginas):\n",
    "            # Obtendo a pagina no loop\n",
    "\n",
    "            pagina = pdf_extraido.pages[pages]\n",
    "        \n",
    "            # Obtendo texto da pagina \n",
    "\n",
    "            pagina_texto = pagina.extract_text()\n",
    "\n",
    "            #escrevendo no arquivo\n",
    "            txt.write(pagina_texto)\n",
    "            txt.write('\\n----- Página {} -----\\n\\n'.format(pages+1)) "
   ]
  },
  {
   "cell_type": "code",
   "execution_count": 75,
   "metadata": {},
   "outputs": [
    {
     "name": "stdout",
     "output_type": "stream",
     "text": [
      "['MCCNC00', 'AAWVL00', 'HCCGA00', 'PLVHA00', 'HCCAU00', 'MCLVA00', 'MCLAA00', 'MCSSA00', 'AAWWR00', 'AAWWS00', 'AAWWT00', 'CPAAA00', 'CPAAF00', 'MCCNI00', 'CDBFAI0', 'CSARM01', 'AAXEX00', 'AAVUW00', 'AAVVB00', 'CUATB04', 'CUAEA04', 'CUAFA04', 'CTLBA00', 'CTOKA00', 'CTVCA00', 'CSABZ00', 'CSAKC00', 'CSAKG00', 'MCPLM01', 'MCPLM02', 'MCPLM03', 'MCPLQ01', 'MCPLQ02', 'MCPLQ03', 'MCPLY01', 'MCPLY02']\n"
     ]
    }
   ],
   "source": [
    "df = pd.read_excel('Documentos/Platts - Lista de Índices.xlsx')\n",
    "\n",
    "indices = df.iloc[:, 0]\n",
    "#print(indices)\n",
    "\n",
    "all_indices = []\n",
    "\n",
    "for indice in indices:\n",
    "    all_indices.append(indice)\n",
    "\n"
   ]
  },
  {
   "cell_type": "code",
   "execution_count": 76,
   "metadata": {},
   "outputs": [
    {
     "name": "stdout",
     "output_type": "stream",
     "text": [
      "MCCNC00  414.00\n",
      "AAWVL00  382.00\n",
      "HCCGA00  245.75\n",
      "PLVHA00  245.25\n",
      "HCCAU00  226.75\n",
      "MCLVA00  238.00\n",
      "MCLAA00  236.00\n",
      "MCSSA00  198.50\n",
      "AAWWR00  246.00\n",
      "AAWWS00  243.00\n",
      "AAWWT00  240.00\n",
      "MCCNI00  426.00\n",
      "CDBFAI0  15.75\n",
      "CSARM01  247.55\n",
      "AAXEX00  181.95\n",
      "AAVUW00  136.50\n",
      "AAVVB00  133.00\n",
      "CUATB04  193.00\n",
      "CUAEA04  228.05\n",
      "CUAFA04  189.00\n",
      "CTLBA00  205.00\n",
      "CTOKA00  192.70\n",
      "CTVCA00  59.30\n",
      "MCPLM01  247.75\n",
      "MCPLM02  255.75\n",
      "MCPLM03  264.00\n",
      "MCPLQ01  264.75\n",
      "MCPLQ02  260.00\n",
      "MCPLQ03  248.25\n",
      "MCPLY01  252.75\n",
      "MCPLY02  239.50\n"
     ]
    }
   ],
   "source": [
    "\n",
    "indice = 'MCCNC00'\n",
    "regex = re.compile(str(indices) + r'\\s*\\d{0,4}\\.\\d{2}')\n",
    "\n",
    "with open (txt_path, 'r') as arquivo_extraido:\n",
    "    texto = arquivo_extraido.read()\n",
    "\n",
    "    padrao = re.search(regex, texto)\n",
    "\n",
    "if padrao:\n",
    "       print(padrao.group(0))\n",
    "    \n",
    "\n",
    "\"\"\"for indices in all_indices:\n",
    "        # Regex para procurar o resultado dos indices\n",
    "        regex = re.compile(str(indices) + r'\\s*\\d{0,4}\\.\\d{2}')\n",
    "        #Com a biblioteca re usamos a função search\n",
    "        padrao = re.search(regex,texto)\n",
    "        if padrao:\n",
    "            print(padrao.group())\"\"\"\n",
    "\n",
    "\n",
    "\n",
    "\n"
   ]
  }
 ],
 "metadata": {
  "kernelspec": {
   "display_name": "env",
   "language": "python",
   "name": "python3"
  },
  "language_info": {
   "codemirror_mode": {
    "name": "ipython",
    "version": 3
   },
   "file_extension": ".py",
   "mimetype": "text/x-python",
   "name": "python",
   "nbconvert_exporter": "python",
   "pygments_lexer": "ipython3",
   "version": "3.10.8"
  },
  "orig_nbformat": 4,
  "vscode": {
   "interpreter": {
    "hash": "b75c8eca78e066b0f3b42e20fc6016b6a99706d5fcc3904e7674f3dad037dae5"
   }
  }
 },
 "nbformat": 4,
 "nbformat_minor": 2
}
