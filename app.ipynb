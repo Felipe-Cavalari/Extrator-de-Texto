{
 "cells": [
  {
   "cell_type": "code",
   "execution_count": 3,
   "metadata": {},
   "outputs": [
    {
     "name": "stdout",
     "output_type": "stream",
     "text": [
      "Diretorio ja existe\n",
      "Arquivo com mesmo nome já existe, limpando conteudo do mesmo!\n",
      "extraindo arquivo ICT\n"
     ]
    },
    {
     "ename": "AttributeError",
     "evalue": "'str' object has no attribute 'read'",
     "output_type": "error",
     "traceback": [
      "\u001b[1;31m---------------------------------------------------------------------------\u001b[0m",
      "\u001b[1;31mAttributeError\u001b[0m                            Traceback (most recent call last)",
      "Cell \u001b[1;32mIn[3], line 60\u001b[0m\n\u001b[0;32m     55\u001b[0m             txt\u001b[39m.\u001b[39mwrite(\u001b[39m'\u001b[39m\u001b[39m\\n\u001b[39;00m\u001b[39m----- Página \u001b[39m\u001b[39m{}\u001b[39;00m\u001b[39m -----\u001b[39m\u001b[39m\\n\u001b[39;00m\u001b[39m\\n\u001b[39;00m\u001b[39m'\u001b[39m\u001b[39m.\u001b[39mformat(index\u001b[39m+\u001b[39m\u001b[39m1\u001b[39m))\n\u001b[0;32m     59\u001b[0m \u001b[39mwith\u001b[39;00m \u001b[39mopen\u001b[39m(txt_file, \u001b[39m'\u001b[39m\u001b[39mr\u001b[39m\u001b[39m'\u001b[39m) \u001b[39mas\u001b[39;00m txt:\n\u001b[1;32m---> 60\u001b[0m     text \u001b[39m=\u001b[39m txt_file\u001b[39m.\u001b[39;49mread()\n\u001b[0;32m     62\u001b[0m     \u001b[39mprint\u001b[39m(text)\n",
      "\u001b[1;31mAttributeError\u001b[0m: 'str' object has no attribute 'read'"
     ]
    }
   ],
   "source": [
    "import PyPDF2\n",
    "import os\n",
    "import re\n",
    "import pandas as pd\n",
    "import tkinter as tk\n",
    "from tkinter import filedialog\n",
    "\n",
    "\n",
    "\n",
    "#Gerando variavel para selecionar o arquivo para ser extraido\n",
    "file = filedialog.askopenfilename(title='Selecione o Pdf')\n",
    "\n",
    "file_name = os.path.basename(file)\n",
    "#separando data do nome do arquivo\n",
    "file_name_dict = re.split('[._]', file_name)\n",
    "file_date = file_name_dict[1]\n",
    "\n",
    "#caminho para salvar os dados extraidos\n",
    "txt_path = './Dados extraidos'\n",
    "if not os.path.exists(txt_path):\n",
    "    print('criando diretório')\n",
    "    os.makedirs(txt_path)\n",
    "else:\n",
    "    print('Diretorio ja existe')\n",
    "\n",
    "\n",
    "#criando arquivo onde os dados vão ser colocados\n",
    "txt_file = txt_path + '/' + file_name_dict[0] + \"_\" + file_name_dict[1] + '_Results.txt'\n",
    "\n",
    "#verificando se existe algum arquivo de texto com o mesmo nome\n",
    "if not os.path.exists(txt_file):\n",
    "    print('criando o arquivo')\n",
    "    open(txt_file, 'w').close()\n",
    "else:\n",
    "    print('Arquivo com mesmo nome já existe, limpando conteudo do mesmo!')\n",
    "    open(txt_file, 'w').close()\n",
    "\n",
    "\n",
    "#Realizando a extração\n",
    "print('extraindo arquivo ICT')\n",
    "with open(file, 'rb') as pdf:\n",
    "    pdf_extract = PyPDF2.PdfReader(pdf)\n",
    "    page_number = len(pdf_extract.pages)\n",
    "\n",
    "    with open(txt_file, 'a') as txt:\n",
    "        for index in range(page_number):\n",
    "                        #obtendo a pagina do loop\n",
    "            page = pdf_extract.pages[index]\n",
    "\n",
    "                        #extraindo o texto\n",
    "            page_text = page.extract_text()\n",
    "\n",
    "                        #Escrevendo no arquivo por loop\n",
    "            txt.write(page_text)\n",
    "            txt.write('\\n----- Página {} -----\\n\\n'.format(index+1))\n",
    "\n",
    "\n",
    "\n",
    "with open(txt_file, 'r') as txt:\n",
    "    text = txt.read()\n",
    "\n",
    "    print(text)"
   ]
  }
 ],
 "metadata": {
  "kernelspec": {
   "display_name": "env",
   "language": "python",
   "name": "python3"
  },
  "language_info": {
   "codemirror_mode": {
    "name": "ipython",
    "version": 3
   },
   "file_extension": ".py",
   "mimetype": "text/x-python",
   "name": "python",
   "nbconvert_exporter": "python",
   "pygments_lexer": "ipython3",
   "version": "3.10.8"
  },
  "orig_nbformat": 4
 },
 "nbformat": 4,
 "nbformat_minor": 2
}
